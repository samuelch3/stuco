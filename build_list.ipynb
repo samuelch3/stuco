{
  "nbformat": 4,
  "nbformat_minor": 0,
  "metadata": {
    "colab": {
      "provenance": [],
      "mount_file_id": "1OLycEMuai8PtJBsEqufjzglQp9gnCAR_",
      "authorship_tag": "ABX9TyMP/QLefo0696kkomgXOjfU",
      "include_colab_link": true
    },
    "kernelspec": {
      "name": "python3",
      "display_name": "Python 3"
    },
    "language_info": {
      "name": "python"
    }
  },
  "cells": [
    {
      "cell_type": "markdown",
      "metadata": {
        "id": "view-in-github",
        "colab_type": "text"
      },
      "source": [
        "<a href=\"https://colab.research.google.com/github/samuelch3/stuco/blob/main/build_list.ipynb\" target=\"_parent\"><img src=\"https://colab.research.google.com/assets/colab-badge.svg\" alt=\"Open In Colab\"/></a>"
      ]
    },
    {
      "cell_type": "markdown",
      "source": [
        "# usage\n",
        "1.   Enter the data in cell 1\n",
        "2.   press \"run all\"\n",
        "3.   when google asks if you want to grant access, click \"yes\" to everything\n",
        "4.   watch the new stuco list populate\n",
        "5.   on the new stuco list, clean up the FCE opt-in column to TRUE/FALSE instead of \"Yes/No\"\n",
        "5.   make the formatting look nice on the new stuco list"
      ],
      "metadata": {
        "id": "exXyBYgAXL6G"
      }
    },
    {
      "cell_type": "markdown",
      "source": [
        "# Update log:\n",
        "* code: 2025-03-17\n",
        "* Documentation: 2025-01-22"
      ],
      "metadata": {
        "id": "2o08ckBdxnST"
      }
    },
    {
      "cell_type": "markdown",
      "source": [
        "## 2025-03-17\n",
        "* code: changed so that new courses are assigned 129xx numbers (CEE) as placeholder, so that stuco actually has to look at the numbers before hitting send\n",
        "* working on Python version 3.11.11\n",
        "\n",
        "## 2025-01-21\n",
        "* code: updated to use values for F25 semester\n",
        "* working on Python version 3.11.11"
      ],
      "metadata": {
        "id": "JIZrydjAbufg"
      }
    },
    {
      "cell_type": "code",
      "source": [
        "import sys\n",
        "\n",
        "print(sys.version)"
      ],
      "metadata": {
        "colab": {
          "base_uri": "https://localhost:8080/"
        },
        "id": "MC2-JnIRxU17",
        "outputId": "f5a581b4-d43a-4acd-aa8a-d44300f496fd"
      },
      "execution_count": null,
      "outputs": [
        {
          "output_type": "stream",
          "name": "stdout",
          "text": [
            "3.11.11 (main, Dec  4 2024, 08:55:07) [GCC 11.4.0]\n"
          ]
        }
      ]
    },
    {
      "cell_type": "markdown",
      "source": [
        "# modify this cell"
      ],
      "metadata": {
        "id": "mhAwSbm6xDVt"
      }
    },
    {
      "cell_type": "code",
      "execution_count": null,
      "metadata": {
        "id": "EVj_smOz0PAr"
      },
      "outputs": [],
      "source": [
        "# urls\n",
        "\n",
        "# application form responses, either the id (gibberish string) or the url works\n",
        "application_form = \"https://docs.google.com/spreadsheets/d/1S9diX0iRztClihnpjP3-fmWAEsn6Kg8fpKqS7eNe_Bo\"\n",
        "\n",
        "# instructor list\n",
        "# - create a new one (set to None) OR\n",
        "# - input a link as above to write the instructor list to an existing sheet\n",
        "previous_stuco_list_url = 'https://docs.google.com/spreadsheets/d/1il1kx7-Y88_7KPZJ3UCMF6OW6_0NhUf4AKxRPzIT3Gw'\n",
        "new_stuco_list_url = \"https://docs.google.com/spreadsheets/d/1rijdL1vZbRYvnOla8lpRQPRnvlqtkBHwYvZhn16v4uk\"\n",
        "new_semester_folder_url = \"https://drive.google.com/drive/folders/1uN3gYa4TDyTLBdDNyaig38-hs_MRMLHJ\"\n",
        "folder_id = \"1uN3gYa4TDyTLBdDNyaig38-hs_MRMLHJ\"\n",
        "\n",
        "semester = \"F25\""
      ]
    },
    {
      "cell_type": "markdown",
      "source": [
        "# you need not touch the rest\n",
        "(unless you change the application form)"
      ],
      "metadata": {
        "id": "IpA_WWWZxGL4"
      }
    },
    {
      "cell_type": "markdown",
      "source": [
        "log in to google drive to access the sheet"
      ],
      "metadata": {
        "id": "FpQ-n_VE4aeL"
      }
    },
    {
      "cell_type": "code",
      "execution_count": null,
      "metadata": {
        "id": "GjlZ-NwgsMwb"
      },
      "outputs": [],
      "source": [
        "from google.colab import auth\n",
        "auth.authenticate_user()\n",
        "\n",
        "import gspread\n",
        "from google.auth import default\n",
        "creds, _ = default()\n",
        "gc = gspread.authorize(creds)\n",
        "\n",
        "old_course_profiles = gc.open_by_url(previous_stuco_list_url).get_worksheet(1).get_all_records()"
      ]
    },
    {
      "cell_type": "markdown",
      "source": [
        "functions to process each application"
      ],
      "metadata": {
        "id": "BamJ8280QCpO"
      }
    },
    {
      "cell_type": "code",
      "source": [
        "def gen_course_num(app, i):\n",
        "  # listed returning course\n",
        "  if app[\"What course are you making the request for?\"] not in (\"Not Listed\", \"\"):\n",
        "    return app['What course are you making the request for?'][:6], i\n",
        "  # listed returning course\n",
        "  elif app[\"What course are you making the request for?\"] == \"Not Listed\":\n",
        "    return app[\"If your course was not listed above, please fill it in below.\"][:6], i\n",
        "  # new course: assign arbitrary 98-5xx number, to be replaced later\n",
        "  else:\n",
        "    return \"12-\" + str(i), i+1\n",
        "\n",
        "def course_profile(app, course_num):\n",
        "  profile = dict()\n",
        "  new = app[\"Are you applying for a returning StuCo course or new StuCo course?\"].startswith(\"New\")\n",
        "  change_profile = app[\"I verify that I have reviewed my course profile details on SIO/S3, and no changes are necessary at this time.\"].startswith(\"I'd like to make changes\")\n",
        "  if change_profile or new:\n",
        "    course_profile_from_app(profile, app)\n",
        "    if new: # get titles from current application if its a new course\n",
        "      profile[\"Short Title\"] = \"STUCO: \" + app[\"Short Course Name (for SIO)\"].upper()\n",
        "      profile[\"Long Title\"] = app[\"Full Course Name\"]\n",
        "      return profile\n",
        "  # will need to get short and long title from old list\n",
        "  old_course_profile = None\n",
        "  for course in old_course_profiles:\n",
        "    if course[\"Class Number\"] == course_num: old_course_profile = course; break\n",
        "  if old_course_profile != None:\n",
        "    profile[\"Short Title\"] = old_course_profile[\"Short Title\"]\n",
        "    profile[\"Long Title\"] = old_course_profile[\"Long Title\"]\n",
        "    if not change_profile: # scrape the old course profiles for data if old course profile exists\n",
        "      profile[\"Course Description\"] = old_course_profile[\"Description\"]\n",
        "      profile[\"Key Topics\"] = old_course_profile[\"Key Topics\"]\n",
        "      profile[\"Prerequisite Knowledge\"] = old_course_profile[\"Prerequisite Knowledge\"]\n",
        "      profile[\"Course Relevance\"] = old_course_profile[\"Course Relevance\"]\n",
        "      profile[\"Course Goals\"] = old_course_profile[\"Course Goals\"]\n",
        "      profile[\"Assessment Structure\"] = old_course_profile[\"Assessment Structure\"]\n",
        "      profile[\"Learning Resources\"] = old_course_profile[\"Learning Resources\"]\n",
        "      profile[\"Extra Time Commitments\"] = old_course_profile[\"Extra Time Commitments\"]\n",
        "  else: # if we could not find the old course profile (not offered last sem), we can at least do the long title from the application\n",
        "    profile[\"Long Title\"] = app[\"If your course was not listed above, please fill it in below.\"][7:]\n",
        "  return profile\n",
        "\n",
        "def course_profile_from_app(profile, app):\n",
        "  profile[\"Course Description\"] = app[\"Course description (for SIO)\"]\n",
        "  profile[\"Key Topics\"] = app[\"Key topics: What are the key subject topics that this course will cover?\"]\n",
        "  profile[\"Prerequisite Knowledge\"] = app[\"Prerequisite Knowledge: What prior knowledge must students have in order to be successful in this course?\"]\n",
        "  profile[\"Course Relevance\"] = app[\"Course Relevance: How is this course relevant to the targeted student populations?\"]\n",
        "  profile[\"Course Goals\"] = app[\"Course Goals: What are the overall goals of this course that students will achieve after completing it?\"]\n",
        "  profile[\"Assessment Structure\"] = app[\"Assessment Structure: How will students be assessed in this course: assignments, exams, final, presentation, project, etc.?\"]\n",
        "  profile[\"Learning Resources\"] = app[\"Learning Resources: What resources will be available for students: web pages, learning applications, texts, case studies, etc.?\"]\n",
        "  profile[\"Extra Time Commitments\"] = app[\"Extra Time Commitments: Are there extra time commitments required outside of the regularly scheduled course meeting times?\"]\n",
        "\n",
        "def get_instructor_data(application, i):\n",
        "  instructor = dict()\n",
        "  instructor[\"Instructor First Name\"] = application[f\"Instructor {i} First Name\"]\n",
        "  instructor[\"Instructor Last Name\"] = application[f\"Instructor {i} Last Name\"]\n",
        "  instructor[\"Instructor AndrewID\"] = application[f\"Instructor {i} Andrew ID\"]\n",
        "  instructor[\"Instructor Email\"] = instructor[\"Instructor AndrewID\"] + \"@andrew.cmu.edu\"\n",
        "  instructor[\"Contract Link\"] = application[f\"Instructor {i} Contract\"]\n",
        "  instructor[\"Advisor Name\"] = application[f\"Instructor {i} Academic Advisor Name\"]\n",
        "  instructor[\"Advisor AndrewID\"] = application[f\"Instructor {i} Academic Advisor Andrew ID\"]\n",
        "  instructor[\"Recommending Faculty Name\"] = application[f\"Instructor {i} Recommending Faculty Name (not your Academic Advisor)\"]\n",
        "  instructor[\"Recommending Faculty AndrewID\"] = application[f\"Instructor {i} Recommending Faculty Andrew ID\"]\n",
        "  return instructor\n",
        "\n",
        "def other_data(application):\n",
        "  fill_data = {\n",
        "      \"Syllabus Link\":\"Upload your syllabus\",\n",
        "      \"Room Type\":\"What type of room do you need?\",\n",
        "      \"Preferred Room/Notes\":\"Do you have a room in particular that you would prefer?\",\n",
        "      \"Tentative Cap\":\"Max enrollment for course\",\n",
        "      \"Day\":\"Day of week\",\n",
        "      \"Start Time\":\"Start Time (earliest is 7:00pm)\",\n",
        "      \"End Time\":\"End Time\",\n",
        "      \"Fee\":\"Course Fee\",\n",
        "      \"Course Description\":\"Course description (for SIO)\",\n",
        "      \"FCE Opt-In\":\"Would you like to receive FCEs at the end of the semester for this course?\"\n",
        "  }\n",
        "  filled_data = dict()\n",
        "  for entry in fill_data:\n",
        "    filled_data[entry] = application[fill_data[entry]]\n",
        "  return filled_data"
      ],
      "metadata": {
        "id": "Uh1_bfYuWM96"
      },
      "execution_count": null,
      "outputs": []
    },
    {
      "cell_type": "markdown",
      "source": [
        "get the data from each application and push it onto the new sheet"
      ],
      "metadata": {
        "id": "J9uIAS8BQMxT"
      }
    },
    {
      "cell_type": "code",
      "source": [
        "def build_entries_from_application(application: dict, default_num, instr_header, profile_header, stuco_list, course_profiles):\n",
        "  # information that is the same for all instructors\n",
        "  course_data = other_data(application)\n",
        "  course_data[\"Course Number\"], new_default = gen_course_num(application, default_num)\n",
        "  course_data = course_data | course_profile(application, course_data[\"Course Number\"])\n",
        "\n",
        "  # copy data for each instructor\n",
        "  instr_count = int(application[\"Number of Instructors\"])+1\n",
        "  for instr in range(1, instr_count):\n",
        "    entry = course_data | get_instructor_data(application, instr)\n",
        "    enter_instr(entry, stuco_list, instr_header)\n",
        "\n",
        "  # enter data to course profile sheet\n",
        "  profile = course_data\n",
        "  profile[\"Class Number\"] = course_data[\"Course Number\"]\n",
        "  profile[\"Description\"] = course_data[\"Course Description\"]\n",
        "  enter_course_profile(profile, course_profiles, profile_header)\n",
        "  return new_default\n",
        "\n",
        "def enter_instr(entry: dict, sheet, header):\n",
        "  row = [\"\"] * len(header)\n",
        "  for i, col in enumerate(header):\n",
        "    if col in entry: row[i] = entry[col]\n",
        "  sheet.append_row(row)\n",
        "\n",
        "def enter_course_profile(entry: dict, sheet, header):\n",
        "  row = [\"\"] * len(header)\n",
        "  for i, col in enumerate(header):\n",
        "    if col in entry: row[i] = entry[col]\n",
        "  sheet.append_row(row)"
      ],
      "metadata": {
        "id": "7OpRYXk3WnXu"
      },
      "execution_count": null,
      "outputs": []
    },
    {
      "cell_type": "markdown",
      "source": [
        "function to build the stuco list from the form response sheet"
      ],
      "metadata": {
        "id": "204VLzdRq_ss"
      }
    },
    {
      "cell_type": "code",
      "source": [
        "# builds the whole list given locations of relevant stuff\n",
        "def build_list(form_response, stuco_list):\n",
        "  instr_sheet_columns = 30\n",
        "  instr_header = gc.open_by_url(previous_stuco_list_url).get_worksheet(0).get(\"1:1\")[0][0:instr_sheet_columns] # retrieve header from previous stuco list, but cut off audit stuff\n",
        "  instructor_list = stuco_list.get_worksheet(0)\n",
        "  instructor_list.insert_row(instr_header, 1)\n",
        "  instructor_list.delete_rows(2, 500)\n",
        "\n",
        "  profile_header = gc.open_by_url(previous_stuco_list_url).get_worksheet(1).get(\"1:1\")[0]\n",
        "  course_profiles = stuco_list.get_worksheet(1)\n",
        "  course_profiles.insert_row(profile_header, 1)\n",
        "  course_profiles.delete_rows(2, 200)\n",
        "\n",
        "  applications = gc.open_by_url(form_response).worksheet(\"Form Responses 1\").get_all_records()\n",
        "\n",
        "  default = 901\n",
        "  for application in applications:\n",
        "    default = build_entries_from_application(application, default, instr_header, profile_header, instructor_list, course_profiles)\n",
        "\n",
        "  instructor_list.batch_format([{\"range\":\"2:300\", \"format\":{\"wrapStrategy\":\"CLIP\"}}])\n",
        "  instructor_list.delete_columns(instr_sheet_columns, 50)"
      ],
      "metadata": {
        "id": "r1LRsbYGRpLI"
      },
      "execution_count": null,
      "outputs": []
    },
    {
      "cell_type": "markdown",
      "source": [
        "actually run everything"
      ],
      "metadata": {
        "id": "al_CUrobS42V"
      }
    },
    {
      "cell_type": "code",
      "source": [
        "if new_stuco_list_url == None:\n",
        "  new_stuco_list = gc.create(f\"{semester} StuCo List\", folder_id)\n",
        "  new_stuco_list.add_worksheet(f\"{semester} Course Profile\", 1, 11)\n",
        "else:\n",
        "  new_stuco_list = gc.open_by_url(new_stuco_list_url)\n",
        "\n",
        "new_stuco_list.get_worksheet(0).batch_clear([\"1:1000\"])\n",
        "new_stuco_list.get_worksheet(1).batch_clear([\"1:1000\"])\n",
        "\n",
        "build_list(application_form, new_stuco_list)"
      ],
      "metadata": {
        "id": "rMKMN_WShVKZ",
        "colab": {
          "base_uri": "https://localhost:8080/"
        },
        "outputId": "f74f601c-bf21-4d39-f7c4-7f1160878611"
      },
      "execution_count": null,
      "outputs": [
        {
          "output_type": "stream",
          "name": "stdout",
          "text": [
            "501\n",
            "502\n",
            "503\n",
            "504\n",
            "505\n",
            "506\n",
            "507\n"
          ]
        }
      ]
    }
  ]
}